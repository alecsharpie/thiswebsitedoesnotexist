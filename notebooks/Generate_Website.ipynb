{
  "nbformat": 4,
  "nbformat_minor": 0,
  "metadata": {
    "colab": {
      "provenance": []
    },
    "kernelspec": {
      "name": "python3",
      "display_name": "Python 3"
    },
    "language_info": {
      "name": "python"
    },
    "accelerator": "GPU",
    "gpuClass": "standard"
  },
  "cells": [
    {
      "cell_type": "code",
      "source": [
        "!nvidia-smi"
      ],
      "metadata": {
        "colab": {
          "base_uri": "https://localhost:8080/"
        },
        "id": "NagbguDpYzpi",
        "outputId": "aa13b580-a317-4e1e-c2ef-a69f3f6a396a"
      },
      "execution_count": 131,
      "outputs": [
        {
          "output_type": "stream",
          "name": "stdout",
          "text": [
            "Fri Dec  2 04:55:38 2022       \n",
            "+-----------------------------------------------------------------------------+\n",
            "| NVIDIA-SMI 460.32.03    Driver Version: 460.32.03    CUDA Version: 11.2     |\n",
            "|-------------------------------+----------------------+----------------------+\n",
            "| GPU  Name        Persistence-M| Bus-Id        Disp.A | Volatile Uncorr. ECC |\n",
            "| Fan  Temp  Perf  Pwr:Usage/Cap|         Memory-Usage | GPU-Util  Compute M. |\n",
            "|                               |                      |               MIG M. |\n",
            "|===============================+======================+======================|\n",
            "|   0  Tesla T4            Off  | 00000000:00:04.0 Off |                    0 |\n",
            "| N/A   77C    P0    34W /  70W |   4272MiB / 15109MiB |      0%      Default |\n",
            "|                               |                      |                  N/A |\n",
            "+-------------------------------+----------------------+----------------------+\n",
            "                                                                               \n",
            "+-----------------------------------------------------------------------------+\n",
            "| Processes:                                                                  |\n",
            "|  GPU   GI   CI        PID   Type   Process name                  GPU Memory |\n",
            "|        ID   ID                                                   Usage      |\n",
            "|=============================================================================|\n",
            "+-----------------------------------------------------------------------------+\n"
          ]
        }
      ]
    },
    {
      "cell_type": "code",
      "source": [
        "!pip install -q transformers"
      ],
      "metadata": {
        "id": "BOw4QFeUYk93"
      },
      "execution_count": 132,
      "outputs": []
    },
    {
      "cell_type": "code",
      "execution_count": null,
      "metadata": {
        "id": "fQHSg_ihYgp9"
      },
      "outputs": [],
      "source": [
        "from transformers import AutoModelForCausalLM, AutoTokenizer\n",
        "import torch\n",
        "\n",
        "# tokenizer\n",
        "tokenizer_checkpoint = \"Salesforce/codegen-350M-multi\"\n",
        "tokenizer = AutoTokenizer.from_pretrained(tokenizer_checkpoint)\n",
        "\n",
        "# model finetuned on CSS\n",
        "checkpoint = \"alecsharpie/codegen_350m_css\"\n",
        "css_model = AutoModelForCausalLM.from_pretrained(checkpoint)\n",
        "\n",
        "# model finetuned on html\n",
        "checkpoint = \"alecsharpie/codegen_350m_html\"\n",
        "html_model = AutoModelForCausalLM.from_pretrained(checkpoint)\n",
        "\n",
        "\n",
        "# move model to GPU if available\n",
        "device = 'cuda' if torch.cuda.is_available() else 'cpu'\n",
        "\n",
        "css_model.to(device)\n",
        "html_model.to(device)\n"
      ]
    },
    {
      "cell_type": "markdown",
      "source": [
        "#### HTML"
      ],
      "metadata": {
        "id": "hdZWUT5rLjCC"
      }
    },
    {
      "cell_type": "code",
      "source": [
        "%%time\n",
        "\n",
        "page_title = \"Thank you\"\n",
        "\n",
        "\n",
        "html_boilerplate = f\"\"\"\n",
        "<!DOCTYPE html>\n",
        "<html lang=\"en\">\n",
        "    <head>\n",
        "        <meta charset=\"UTF-8\" />\n",
        "        <meta name=\"viewport\" content=\"width=device-width, initial-scale=1.0\" />\n",
        "        <title>{page_title}</title>\n",
        "    </head>\n",
        "    <body>\"\"\"\n",
        "\n",
        "batch = tokenizer(html_boilerplate, return_tensors=\"pt\")\n",
        "\n",
        "batch = {k: v.to(device) for k, v in batch.items()}\n",
        "\n",
        "completion = html_model.generate(**batch, max_new_tokens = 512)\n",
        "\n",
        "html_output = tokenizer.decode(completion[0])"
      ],
      "metadata": {
        "colab": {
          "base_uri": "https://localhost:8080/"
        },
        "id": "SZBGRkq_YkAs",
        "outputId": "fda5a549-889c-429a-fb61-a153a1061cab"
      },
      "execution_count": 134,
      "outputs": [
        {
          "output_type": "stream",
          "name": "stderr",
          "text": [
            "Setting `pad_token_id` to `eos_token_id`:50256 for open-end generation.\n"
          ]
        },
        {
          "output_type": "stream",
          "name": "stdout",
          "text": [
            "CPU times: user 11.3 s, sys: 30 ms, total: 11.3 s\n",
            "Wall time: 12.9 s\n"
          ]
        }
      ]
    },
    {
      "cell_type": "code",
      "source": [
        "# prepare html to use as input to css model\n",
        "html_output = html_output.replace('<|endoftext|>', '')\n",
        "\n",
        "html_output = html_output.split('</body>')[0] + \"</body>\\n<style>\""
      ],
      "metadata": {
        "id": "XZAfVaYfBy_U"
      },
      "execution_count": 135,
      "outputs": []
    },
    {
      "cell_type": "markdown",
      "source": [
        "#### CSS"
      ],
      "metadata": {
        "id": "YgXI0rJ3LmfQ"
      }
    },
    {
      "cell_type": "code",
      "source": [
        "%%time\n",
        "\n",
        "# generate css code\n",
        "batch = tokenizer(html_output, return_tensors=\"pt\")\n",
        "\n",
        "batch = {k: v.to(device) for k, v in batch.items()}\n",
        "\n",
        "completion = css_model.generate(**batch, max_new_tokens = 512)\n",
        "\n",
        "code_output = tokenizer.decode(completion[0])"
      ],
      "metadata": {
        "colab": {
          "base_uri": "https://localhost:8080/"
        },
        "id": "iKBJtJEbRr3O",
        "outputId": "7f14b784-3f94-4d15-f64f-d9010800b2de"
      },
      "execution_count": 136,
      "outputs": [
        {
          "output_type": "stream",
          "name": "stderr",
          "text": [
            "Setting `pad_token_id` to `eos_token_id`:50256 for open-end generation.\n"
          ]
        },
        {
          "output_type": "stream",
          "name": "stdout",
          "text": [
            "CPU times: user 17.6 s, sys: 59.5 ms, total: 17.7 s\n",
            "Wall time: 18.6 s\n"
          ]
        }
      ]
    },
    {
      "cell_type": "code",
      "source": [
        "# parse generated code into full format\n",
        "\n",
        "code_output = code_output.replace('<|endoftext|>', '')\n",
        "\n",
        "if code_output[-1] != '}':\n",
        "  code_output  = code_output + '}'\n",
        "\n",
        "code_output = code_output + \"</style>\\n</html>\"\n"
      ],
      "metadata": {
        "id": "OfFlqVMRDMRZ"
      },
      "execution_count": 137,
      "outputs": []
    },
    {
      "cell_type": "markdown",
      "source": [
        "#### Results"
      ],
      "metadata": {
        "id": "8KYWE9dUL6xu"
      }
    },
    {
      "cell_type": "code",
      "source": [
        "from IPython.display import display, HTML\n",
        "display(HTML(code_output))"
      ],
      "metadata": {
        "colab": {
          "base_uri": "https://localhost:8080/",
          "height": 104
        },
        "id": "x9fMKef2azEX",
        "outputId": "f16a3e2d-b26f-4b19-b666-24791fed0ce0"
      },
      "execution_count": 138,
      "outputs": [
        {
          "output_type": "display_data",
          "data": {
            "text/plain": [
              "<IPython.core.display.HTML object>"
            ],
            "text/html": [
              "\n",
              "<!DOCTYPE html>\n",
              "<html lang=\"en\">\n",
              "    <head>\n",
              "        <meta charset=\"UTF-8\" />\n",
              "        <meta name=\"viewport\" content=\"width=device-width, initial-scale=1.0\" />\n",
              "        <title>Thank you</title>\n",
              "    </head>\n",
              "    <body>\n",
              "\n",
              "\n",
              "\n",
              "    <div id=\"viewport\">\n",
              "        <div class=\"row\">\n",
              "            <div class=\"one-half column\">\n",
              "                <div class=\"one-half column-fluid\">\n",
              "                    <div class=\"well\">\n",
              "                        <h4>WELCOME</h4>\n",
              "                        <p>Welcome to <a href=\"https://tesserocab.org/2016/10/16/triclinic-colors-for-android\">Triclinic colors</a></p>\n",
              "                    </div>\n",
              "                </div>\n",
              "            </div>\n",
              "        </div>\n",
              "    </div>\n",
              "\n",
              "    <script>\n",
              "    (function(f){\n",
              "        if (typeof define === 'function' && define.amd) {\n",
              "            define(['jquery'], f);\n",
              "        } else {\n",
              "            var g;\n",
              "            if (typeof module === 'object' && module.exports) {\n",
              "                g = module.exports;\n",
              "            } else {\n",
              "                g = window.jQuery;\n",
              "            }\n",
              "            g.fn.triclinic.locale('fr');\n",
              "        }\n",
              "    })(function($) {\n",
              "        $.fn.triclinic.locale('fr');\n",
              "    })\n",
              "    </script>\n",
              "</body>\n",
              "<style>\n",
              ".one-half column-fluid {\n",
              "    width: 100%;\n",
              "    margin: 0px auto;\n",
              "    padding: 0px 6px;\n",
              "}\n",
              ".one-half column {\n",
              "    min-width: 200px;\n",
              "}\n",
              ".well {\n",
              "    padding: 10px 0;\n",
              "    background: white;\n",
              "    border: 1px solid black;\n",
              "    font-size: 100%;\n",
              "    border-radius: 50% 50% 50% 50%;\n",
              "    background: #f8f8f8;\n",
              "}\n",
              ".well span.page-break-after {\n",
              "    position: absolute;\n",
              "    top: 0px;\n",
              "    left: 0px;\n",
              "    right: 0px;\n",
              "    bottom: 0px;\n",
              "    padding: 0 10px 0 0;\n",
              "}\n",
              ".well span.page-break-before {\n",
              "    position: absolute;\n",
              "    top: 0px;\n",
              "    left: 0px;\n",
              "    right: 0px;\n",
              "    bottom: 0px;\n",
              "    padding: 0 10px 0 0;\n",
              "}\n",
              ".well span.page-break-inside {\n",
              "    position: fixed;\n",
              "    top: 0px;\n",
              "    left: 0px;\n",
              "    right: 0px;\n",
              "    bottom: 0px;\n",
              "    padding: 0 10px 0 0;\n",
              "}\n",
              ".well span.page-break-outside {\n",
              "    position: absolute;\n",
              "    top: 0px;\n",
              "    left: 0px;\n",
              "    right: 0px;\n",
              "    bottom: 0px;\n",
              "    padding: 0 10px 0 0;\n",
              "}\n",
              ".well.page-break-inside {\n",
              "    position: absolute;\n",
              "    top: 0px;\n",
              "    left: 0px;\n",
              "    right: 0px;\n",
              "    bottom: 0px;\n",
              "    padding: 0 10px 0 0;\n",
              "}\n",
              ".well.page-break-outside {\n",
              "    position: absolute;\n",
              "    top: 0px;\n",
              "    left: 0px;\n",
              "    right: 0px;\n",
              "    bottom: 0px;\n",
              "    padding: 0 10px 0 0;\n",
              "}\n",
              ".well.page-break-inside {\n",
              "    position: absolute;\n",
              "    top: 0px;\n",
              "    left: 0px;\n",
              "    right: 0px;\n",
              "    bottom: 0px;\n",
              "    padding: 0 10px 0 0;\n",
              "}</style>\n",
              "</html>"
            ]
          },
          "metadata": {}
        }
      ]
    },
    {
      "cell_type": "markdown",
      "source": [
        "#### Download file"
      ],
      "metadata": {
        "id": "L4hsAm7hL2zN"
      }
    },
    {
      "cell_type": "code",
      "source": [
        "from google.colab import files\n",
        "\n",
        "# save code to file and download\n",
        "with open('index.html','w') as f:\n",
        "  f.write(code_output)\n",
        "\n",
        "files.download(\"index.html\")"
      ],
      "metadata": {
        "colab": {
          "base_uri": "https://localhost:8080/",
          "height": 17
        },
        "id": "Y6Cb2pEMEfG5",
        "outputId": "f065e737-6cec-432e-aad8-52e509f5149a"
      },
      "execution_count": 139,
      "outputs": [
        {
          "output_type": "display_data",
          "data": {
            "text/plain": [
              "<IPython.core.display.Javascript object>"
            ],
            "application/javascript": [
              "\n",
              "    async function download(id, filename, size) {\n",
              "      if (!google.colab.kernel.accessAllowed) {\n",
              "        return;\n",
              "      }\n",
              "      const div = document.createElement('div');\n",
              "      const label = document.createElement('label');\n",
              "      label.textContent = `Downloading \"${filename}\": `;\n",
              "      div.appendChild(label);\n",
              "      const progress = document.createElement('progress');\n",
              "      progress.max = size;\n",
              "      div.appendChild(progress);\n",
              "      document.body.appendChild(div);\n",
              "\n",
              "      const buffers = [];\n",
              "      let downloaded = 0;\n",
              "\n",
              "      const channel = await google.colab.kernel.comms.open(id);\n",
              "      // Send a message to notify the kernel that we're ready.\n",
              "      channel.send({})\n",
              "\n",
              "      for await (const message of channel.messages) {\n",
              "        // Send a message to notify the kernel that we're ready.\n",
              "        channel.send({})\n",
              "        if (message.buffers) {\n",
              "          for (const buffer of message.buffers) {\n",
              "            buffers.push(buffer);\n",
              "            downloaded += buffer.byteLength;\n",
              "            progress.value = downloaded;\n",
              "          }\n",
              "        }\n",
              "      }\n",
              "      const blob = new Blob(buffers, {type: 'application/binary'});\n",
              "      const a = document.createElement('a');\n",
              "      a.href = window.URL.createObjectURL(blob);\n",
              "      a.download = filename;\n",
              "      div.appendChild(a);\n",
              "      a.click();\n",
              "      div.remove();\n",
              "    }\n",
              "  "
            ]
          },
          "metadata": {}
        },
        {
          "output_type": "display_data",
          "data": {
            "text/plain": [
              "<IPython.core.display.Javascript object>"
            ],
            "application/javascript": [
              "download(\"download_cdf3bbaa-7410-49dd-9df0-e666e42621d5\", \"index.html\", 2452)"
            ]
          },
          "metadata": {}
        }
      ]
    }
  ]
}